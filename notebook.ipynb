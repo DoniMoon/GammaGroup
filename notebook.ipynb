{
 "cells": [
  {
   "cell_type": "code",
   "execution_count": 1,
   "metadata": {},
   "outputs": [],
   "source": [
    "from helpers import *\n",
    "import numpy as np\n",
    "\n",
    "#Load the data\n",
    "datapath = \"dataset/\"\n",
    "x_train, x_test, y_train, train_ids, test_ids = load_csv_data(datapath)"
   ]
  },
  {
   "cell_type": "code",
   "execution_count": 2,
   "metadata": {},
   "outputs": [],
   "source": [
    "from implementations import *\n",
    "#Clean and Standardize the data\n",
    "x_train_stripped, x_test_stripped = remove_empty_columns(x_train, x_test, 0.6)\n",
    "x_train_standardized, x_test_standardized = standardize_data(x_train_stripped, x_test_stripped)"
   ]
  },
  {
   "cell_type": "code",
   "execution_count": 8,
   "metadata": {},
   "outputs": [
    {
     "ename": "NameError",
     "evalue": "name 'err' is not defined",
     "output_type": "error",
     "traceback": [
      "\u001b[0;31m---------------------------------------------------------------------------\u001b[0m",
      "\u001b[0;31mNameError\u001b[0m                                 Traceback (most recent call last)",
      "\u001b[1;32m/home/aziz/GammaGroup/Untitled-1.ipynb Cell 3\u001b[0m line \u001b[0;36m2\n\u001b[1;32m      <a href='vscode-notebook-cell:/home/aziz/GammaGroup/Untitled-1.ipynb#W4sZmlsZQ%3D%3D?line=0'>1</a>\u001b[0m x_train_train, y_train_train, x_test_train, y_test_train \u001b[39m=\u001b[39m train_test_split(y_train, x_train_standardized)\n\u001b[0;32m----> <a href='vscode-notebook-cell:/home/aziz/GammaGroup/Untitled-1.ipynb#W4sZmlsZQ%3D%3D?line=1'>2</a>\u001b[0m w, loss \u001b[39m=\u001b[39m mean_squared_error_sgd(y_train_train, x_train_train, np\u001b[39m.\u001b[39mzeros(x_train_train\u001b[39m.\u001b[39mshape[\u001b[39m1\u001b[39m]), \u001b[39m500\u001b[39m, \u001b[39m0.25\u001b[39m)\n",
      "File \u001b[0;32m~/GammaGroup/implementations.py:93\u001b[0m, in \u001b[0;36mmean_squared_error_sgd\u001b[0;34m(y, tx, initial_w, max_iters, gamma)\u001b[0m\n\u001b[1;32m     91\u001b[0m \u001b[39mfor\u001b[39;00m _ \u001b[39min\u001b[39;00m \u001b[39mrange\u001b[39m(max_iters):\n\u001b[1;32m     92\u001b[0m     i \u001b[39m=\u001b[39m np\u001b[39m.\u001b[39mrandom\u001b[39m.\u001b[39mrandint(\u001b[39m0\u001b[39m, \u001b[39mlen\u001b[39m(y))\n\u001b[0;32m---> 93\u001b[0m     gradient \u001b[39m=\u001b[39m compute_gradient_mse(y[i : i \u001b[39m+\u001b[39m \u001b[39m1\u001b[39m], tx[i : i \u001b[39m+\u001b[39m \u001b[39m1\u001b[39m], w)\n\u001b[1;32m     94\u001b[0m     w \u001b[39m=\u001b[39m w \u001b[39m-\u001b[39m gamma \u001b[39m*\u001b[39m gradient\n\u001b[1;32m     95\u001b[0m loss \u001b[39m=\u001b[39m \u001b[39m1\u001b[39m \u001b[39m/\u001b[39m \u001b[39m2\u001b[39m \u001b[39m*\u001b[39m np\u001b[39m.\u001b[39mmean(y \u001b[39m-\u001b[39m tx\u001b[39m.\u001b[39mdot(w)\u001b[39m*\u001b[39m\u001b[39m*\u001b[39m\u001b[39m2\u001b[39m)\n",
      "File \u001b[0;32m~/GammaGroup/implementations.py:56\u001b[0m, in \u001b[0;36mcompute_gradient_mse\u001b[0;34m(y, tx, w)\u001b[0m\n\u001b[1;32m     52\u001b[0m \u001b[39m\u001b[39m\u001b[39m\"\"\"\u001b[39;00m\n\u001b[1;32m     53\u001b[0m \u001b[39mCompute the gradient for mean squared error.\u001b[39;00m\n\u001b[1;32m     54\u001b[0m \u001b[39m\"\"\"\u001b[39;00m\n\u001b[1;32m     55\u001b[0m e \u001b[39m=\u001b[39m y \u001b[39m-\u001b[39m tx\u001b[39m.\u001b[39mdot(w)\n\u001b[0;32m---> 56\u001b[0m gradient \u001b[39m=\u001b[39m \u001b[39m-\u001b[39mtx\u001b[39m.\u001b[39mT\u001b[39m.\u001b[39mdot(err) \u001b[39m/\u001b[39m \u001b[39mlen\u001b[39m(err)\n\u001b[1;32m     57\u001b[0m \u001b[39mreturn\u001b[39;00m gradient\n",
      "\u001b[0;31mNameError\u001b[0m: name 'err' is not defined"
     ]
    }
   ],
   "source": [
    "x_train_train, y_train_train, x_test_train, y_test_train = train_test_split(y_train, x_train_standardized)\n",
    "w, loss = mean_squared_error_sgd(y_train_train, x_train_train, np.zeros(x_train_train.shape[1]), 500, 0.25)"
   ]
  },
  {
   "cell_type": "code",
   "execution_count": null,
   "metadata": {},
   "outputs": [],
   "source": [
    "\n",
    "result = x_test_train.dot(w)\n",
    "binary_predictions = np.where(result >= 0, 1, -1)\n",
    "print(compute_f1_score(y_test_train, binary_predictions))"
   ]
  }
 ],
 "metadata": {
  "kernelspec": {
   "display_name": "base",
   "language": "python",
   "name": "python3"
  },
  "language_info": {
   "codemirror_mode": {
    "name": "ipython",
    "version": 3
   },
   "file_extension": ".py",
   "mimetype": "text/x-python",
   "name": "python",
   "nbconvert_exporter": "python",
   "pygments_lexer": "ipython3",
   "version": "3.11.5"
  }
 },
 "nbformat": 4,
 "nbformat_minor": 2
}
