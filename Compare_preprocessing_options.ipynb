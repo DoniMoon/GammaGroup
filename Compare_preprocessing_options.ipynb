{
 "cells": [
  {
   "cell_type": "code",
   "execution_count": 1,
   "metadata": {},
   "outputs": [],
   "source": [
    "import csv\n",
    "import os\n",
    "import numpy as np\n",
    "import seaborn as sns\n",
    "from implementations import *\n",
    "import matplotlib.pyplot as plt"
   ]
  },
  {
   "cell_type": "code",
   "execution_count": 2,
   "metadata": {},
   "outputs": [],
   "source": [
    "def load_csv_data_with_dictreader(data_path, sub_sample=False):\n",
    "    '''\n",
    "    Since csv load function in helpers.py is too slow, we implemented faster reader. \n",
    "    load_csv_data function need more than 1 hour on EPFL noto server.\n",
    "    Still the fastest choice is pandas dataframe. I hope you allow pandas for proj 1 next year.\n",
    "    '''\n",
    "    def csv_to_np_arrays(file_path):\n",
    "        with open(file_path, 'r') as f:\n",
    "            reader = csv.DictReader(f)\n",
    "            headers = reader.fieldnames            \n",
    "            data = [list(map(lambda x: float(x) if x else 0.0, row.values())) for row in reader]            \n",
    "            return np.array(data), headers\n",
    "        \n",
    "    y_train_data, _ = csv_to_np_arrays(os.path.join(data_path, \"y_train.csv\"))\n",
    "    x_test_data, _ = csv_to_np_arrays(os.path.join(data_path, \"x_test.csv\"))\n",
    "    x_train_data, x_headers = csv_to_np_arrays(os.path.join(data_path, \"x_train.csv\"))\n",
    "    y_train = y_train_data[:, 1].astype(dtype=int)\n",
    "    x_train = x_train_data[:, 1:]\n",
    "    x_test = x_test_data[:, 1:]\n",
    "    train_ids = x_train_data[:, 0].astype(dtype=int)\n",
    "    test_ids = x_test_data[:, 0].astype(dtype=int)\n",
    "\n",
    "    # sub-sample\n",
    "    if sub_sample:\n",
    "        y_train = y_train[::50]\n",
    "        x_train = x_train[::50]\n",
    "        train_ids = train_ids[::50]\n",
    "    return x_train, x_test, y_train, train_ids, test_ids, x_headers"
   ]
  },
  {
   "cell_type": "code",
   "execution_count": 3,
   "metadata": {},
   "outputs": [],
   "source": [
    "x_train, x_test, y_train, train_ids, test_ids, x_headers = load_csv_data_with_dictreader('data')"
   ]
  },
  {
   "cell_type": "code",
   "execution_count": 5,
   "metadata": {},
   "outputs": [],
   "source": [
    "x_train_stripped, x_test_stripped = remove_empty_columns(x_train, x_test, 0.6)"
   ]
  },
  {
   "cell_type": "code",
   "execution_count": 6,
   "metadata": {},
   "outputs": [],
   "source": [
    "def evaluate(y_true, y_predict):\n",
    "    TP = np.sum((y_true == 1) & (y_predict == 1))\n",
    "    FP = np.sum((y_true == -1) & (y_predict == 1))\n",
    "    FN = np.sum((y_true == 1) & (y_predict == -1))\n",
    "    TN = np.sum((y_true == -1) & (y_predict == -1))\n",
    "    accuracy = (TP + TN) / (TP + FP + FN + TN)\n",
    "    precision = TP / (TP + FP) if TP + FP != 0 else 0\n",
    "    recall = TP / (TP + FN) if TP + FN != 0 else 0\n",
    "    f1_score = 2 * (precision * recall) / (precision + recall) if precision + recall != 0 else 0\n",
    "    return accuracy, f1_score"
   ]
  },
  {
   "cell_type": "code",
   "execution_count": 7,
   "metadata": {},
   "outputs": [],
   "source": [
    "def k_fold_cross_validation(y, tx, k=5):\n",
    "    fold_size = len(y) // k\n",
    "    f1_list = []\n",
    "    acc_list = []\n",
    "    \n",
    "    np.random.seed(0)\n",
    "\n",
    "    for fold_n in range(k):\n",
    "        print(fold_n)\n",
    "        start, end = fold_n * fold_size, (fold_n + 1) * fold_size\n",
    "        tx_test = tx[start:end]\n",
    "        y_test = y[start:end]\n",
    "        tx_train = np.vstack([tx[:start], tx[end:]])\n",
    "        y_train = np.hstack([y[:start], y[end:]])\n",
    "        \n",
    "        w, loss = mean_absolute_error_sgd(y, tx, np.zeros(tx.shape[1]), 500, 0.01)        \n",
    "\n",
    "        y_test_predicted = np.where(tx_test.dot(w) >= 0.9, 1, -1)\n",
    "        acc, f1 = evaluate(y_test, y_test_predicted)\n",
    "        acc_list.append(acc)\n",
    "        f1_list.append(f1)\n",
    "\n",
    "    return acc_list, f1_list"
   ]
  },
  {
   "cell_type": "code",
   "execution_count": 8,
   "metadata": {},
   "outputs": [],
   "source": [
    "result_dict = dict()\n",
    "indices = np.arange(x_train.shape[0])\n",
    "np.random.seed(0)\n",
    "np.random.shuffle(indices)"
   ]
  },
  {
   "cell_type": "markdown",
   "metadata": {},
   "source": [
    "## 1. baseline"
   ]
  },
  {
   "cell_type": "code",
   "execution_count": 12,
   "metadata": {},
   "outputs": [],
   "source": [
    "train_x_baseline = x_train_stripped[indices]\n",
    "train_y_baseline = y_train[indices]"
   ]
  },
  {
   "cell_type": "code",
   "execution_count": 13,
   "metadata": {
    "scrolled": true
   },
   "outputs": [
    {
     "name": "stdout",
     "output_type": "stream",
     "text": [
      "0\n",
      "49\n",
      "99\n",
      "149\n",
      "199\n",
      "249\n",
      "299\n",
      "349\n",
      "399\n",
      "449\n",
      "499\n",
      "1\n",
      "49\n",
      "99\n",
      "149\n",
      "199\n",
      "249\n",
      "299\n",
      "349\n",
      "399\n",
      "449\n",
      "499\n",
      "2\n",
      "49\n",
      "99\n",
      "149\n",
      "199\n",
      "249\n",
      "299\n",
      "349\n",
      "399\n",
      "449\n",
      "499\n",
      "3\n",
      "49\n",
      "99\n",
      "149\n",
      "199\n",
      "249\n",
      "299\n",
      "349\n",
      "399\n",
      "449\n",
      "499\n",
      "4\n",
      "49\n",
      "99\n",
      "149\n",
      "199\n",
      "249\n",
      "299\n",
      "349\n",
      "399\n",
      "449\n",
      "499\n"
     ]
    }
   ],
   "source": [
    "acc_list, f1_list = k_fold_cross_validation(train_y_baseline, train_x_baseline)"
   ]
  },
  {
   "cell_type": "code",
   "execution_count": 14,
   "metadata": {},
   "outputs": [],
   "source": [
    "result_dict['baseline'] = (acc_list, f1_list)"
   ]
  },
  {
   "cell_type": "code",
   "execution_count": 15,
   "metadata": {},
   "outputs": [
    {
     "data": {
      "text/plain": [
       "(0.45848507474057937,\n",
       " 0.37761728564634744,\n",
       " 0.09633638733293168,\n",
       " 0.0787029489996042)"
      ]
     },
     "execution_count": 15,
     "metadata": {},
     "output_type": "execute_result"
    }
   ],
   "source": [
    "np.mean(acc_list), np.std(acc_list), np.mean(f1_list), np.std(f1_list), "
   ]
  },
  {
   "cell_type": "markdown",
   "metadata": {},
   "source": [
    "## 2. min-max scaling"
   ]
  },
  {
   "cell_type": "code",
   "execution_count": 16,
   "metadata": {},
   "outputs": [],
   "source": [
    "def min_max_scale(data):\n",
    "    min_vals = np.min(data, axis=0)\n",
    "    max_vals = np.max(data, axis=0)\n",
    "    denominators = max_vals - min_vals + 1e-10\n",
    "    scaled_data = (data - min_vals) / denominators\n",
    "    \n",
    "    return scaled_data"
   ]
  },
  {
   "cell_type": "code",
   "execution_count": 17,
   "metadata": {},
   "outputs": [],
   "source": [
    "scaled_x_train = min_max_scale(x_train_stripped)\n",
    "train_x_scaled = scaled_x_train[indices]\n",
    "train_y_scaled = y_train[indices]"
   ]
  },
  {
   "cell_type": "code",
   "execution_count": 18,
   "metadata": {
    "scrolled": true
   },
   "outputs": [
    {
     "name": "stdout",
     "output_type": "stream",
     "text": [
      "0\n",
      "49\n",
      "99\n",
      "149\n",
      "199\n",
      "249\n",
      "299\n",
      "349\n",
      "399\n",
      "449\n",
      "499\n",
      "1\n",
      "49\n",
      "99\n",
      "149\n",
      "199\n",
      "249\n",
      "299\n",
      "349\n",
      "399\n",
      "449\n",
      "499\n",
      "2\n",
      "49\n",
      "99\n",
      "149\n",
      "199\n",
      "249\n",
      "299\n",
      "349\n",
      "399\n",
      "449\n",
      "499\n",
      "3\n",
      "49\n",
      "99\n",
      "149\n",
      "199\n",
      "249\n",
      "299\n",
      "349\n",
      "399\n",
      "449\n",
      "499\n",
      "4\n",
      "49\n",
      "99\n",
      "149\n",
      "199\n",
      "249\n",
      "299\n",
      "349\n",
      "399\n",
      "449\n",
      "499\n"
     ]
    }
   ],
   "source": [
    "acc_list, f1_list = k_fold_cross_validation(train_y_scaled, train_x_scaled)"
   ]
  },
  {
   "cell_type": "code",
   "execution_count": 21,
   "metadata": {},
   "outputs": [],
   "source": [
    "result_dict['scaled'] = (acc_list, f1_list)"
   ]
  },
  {
   "cell_type": "code",
   "execution_count": 22,
   "metadata": {},
   "outputs": [
    {
     "data": {
      "text/plain": [
       "(0.9116979292059669, 0.0005953995797657183, 0.0, 0.0)"
      ]
     },
     "execution_count": 22,
     "metadata": {},
     "output_type": "execute_result"
    }
   ],
   "source": [
    "np.mean(acc_list), np.std(acc_list),np.mean(f1_list), np.std(f1_list)"
   ]
  },
  {
   "cell_type": "markdown",
   "metadata": {},
   "source": [
    "## 3. Standardization"
   ]
  },
  {
   "cell_type": "code",
   "execution_count": 23,
   "metadata": {},
   "outputs": [],
   "source": [
    "def standardize_data (x_train, x_test):\n",
    "    x_train_array = x_train.copy()\n",
    "    for col_idx in range(x_train_array.shape[1]):\n",
    "        unique_values = np.unique(x_train_array[~np.isnan(x_train_array[:, col_idx]), col_idx])\n",
    "        if len(unique_values) == 1 and 1 in unique_values:\n",
    "            x_train_array[np.isnan(x_train_array[:, col_idx]), col_idx] = 0\n",
    "    x_test_array = x_test.copy()\n",
    "    for col_idx in range(x_test_array.shape[1]):\n",
    "        unique_values = np.unique(x_test_array[~np.isnan(x_test_array[:, col_idx]), col_idx])\n",
    "        if len(unique_values) == 1 and 1 in unique_values:\n",
    "            x_test_array[np.isnan(x_test_array[:, col_idx]), col_idx] = 0\n",
    "\n",
    "    mean_x_train = np.nanmean(x_train_array, axis = 0)\n",
    "    std_x_train = np.nanstd(x_train_array, axis = 0)\n",
    "    std_x_train += 1e-10\n",
    "    x_train_standardized = (x_train_array - mean_x_train) / std_x_train\n",
    "    x_train_standardized[np.isnan(x_train_standardized)] = 0\n",
    "    x_test_standardized = (x_test_array - mean_x_train) / std_x_train\n",
    "    x_test_standardized[np.isnan(x_test_standardized)] = 0\n",
    "    return x_train_standardized, x_test_standardized"
   ]
  },
  {
   "cell_type": "code",
   "execution_count": 25,
   "metadata": {},
   "outputs": [],
   "source": [
    "x_train_standardized, _ = standardize_data(x_train_stripped, x_test_stripped)"
   ]
  },
  {
   "cell_type": "code",
   "execution_count": 26,
   "metadata": {},
   "outputs": [],
   "source": [
    "train_x_standard = x_train_standardized[indices]"
   ]
  },
  {
   "cell_type": "code",
   "execution_count": 27,
   "metadata": {
    "scrolled": true
   },
   "outputs": [
    {
     "name": "stdout",
     "output_type": "stream",
     "text": [
      "0\n",
      "49\n",
      "99\n",
      "149\n",
      "199\n",
      "249\n",
      "299\n",
      "349\n",
      "399\n",
      "449\n",
      "499\n",
      "1\n",
      "49\n",
      "99\n",
      "149\n",
      "199\n",
      "249\n",
      "299\n",
      "349\n",
      "399\n",
      "449\n",
      "499\n",
      "2\n",
      "49\n",
      "99\n",
      "149\n",
      "199\n",
      "249\n",
      "299\n",
      "349\n",
      "399\n",
      "449\n",
      "499\n",
      "3\n",
      "49\n",
      "99\n",
      "149\n",
      "199\n",
      "249\n",
      "299\n",
      "349\n",
      "399\n",
      "449\n",
      "499\n",
      "4\n",
      "49\n",
      "99\n",
      "149\n",
      "199\n",
      "249\n",
      "299\n",
      "349\n",
      "399\n",
      "449\n",
      "499\n"
     ]
    }
   ],
   "source": [
    "acc_list, f1_list = k_fold_cross_validation(y_train, train_x_standard)"
   ]
  },
  {
   "cell_type": "code",
   "execution_count": 28,
   "metadata": {},
   "outputs": [],
   "source": [
    "result_dict['standardized'] = (acc_list, f1_list)"
   ]
  },
  {
   "cell_type": "code",
   "execution_count": 29,
   "metadata": {},
   "outputs": [
    {
     "data": {
      "text/plain": [
       "(0.665409054200253,\n",
       " 0.024391096887845604,\n",
       " 0.13569805026896947,\n",
       " 0.0031252274945237487)"
      ]
     },
     "execution_count": 29,
     "metadata": {},
     "output_type": "execute_result"
    }
   ],
   "source": [
    "np.mean(acc_list), np.std(acc_list),np.mean(f1_list), np.std(f1_list)"
   ]
  },
  {
   "cell_type": "markdown",
   "metadata": {},
   "source": [
    "## 4. Log transform for skewed feature"
   ]
  },
  {
   "cell_type": "code",
   "execution_count": 30,
   "metadata": {},
   "outputs": [],
   "source": [
    "def skewness(data):\n",
    "    mean = np.mean(data)\n",
    "    stddev = np.std(data)    \n",
    "    skew = np.mean(((data - mean) / stddev) ** 3)\n",
    "    return skew\n",
    "\n",
    "def log_transform(arr, epsilon=1e-10):\n",
    "    return np.log(arr + epsilon)\n",
    "\n",
    "scaled_x_train = min_max_scale(x_train_stripped)\n",
    "for i in range(scaled_x_train.shape[1]):\n",
    "    transformed_col = skewness(scaled_x_train[:, i])\n",
    "    if np.max(np.abs(transformed_col)) > 1:\n",
    "        scaled_x_train[:, i] = log_transform(scaled_x_train[:, i])"
   ]
  },
  {
   "cell_type": "code",
   "execution_count": 31,
   "metadata": {},
   "outputs": [],
   "source": [
    "train_x_transformed = scaled_x_train[indices]"
   ]
  },
  {
   "cell_type": "code",
   "execution_count": 32,
   "metadata": {
    "scrolled": true
   },
   "outputs": [
    {
     "name": "stdout",
     "output_type": "stream",
     "text": [
      "0\n",
      "49\n",
      "99\n",
      "149\n",
      "199\n",
      "249\n",
      "299\n",
      "349\n",
      "399\n",
      "449\n",
      "499\n",
      "1\n",
      "49\n",
      "99\n",
      "149\n",
      "199\n",
      "249\n",
      "299\n",
      "349\n",
      "399\n",
      "449\n",
      "499\n",
      "2\n",
      "49\n",
      "99\n",
      "149\n",
      "199\n",
      "249\n",
      "299\n",
      "349\n",
      "399\n",
      "449\n",
      "499\n",
      "3\n",
      "49\n",
      "99\n",
      "149\n",
      "199\n",
      "249\n",
      "299\n",
      "349\n",
      "399\n",
      "449\n",
      "499\n",
      "4\n",
      "49\n",
      "99\n",
      "149\n",
      "199\n",
      "249\n",
      "299\n",
      "349\n",
      "399\n",
      "449\n",
      "499\n"
     ]
    }
   ],
   "source": [
    "acc_list, f1_list = k_fold_cross_validation(y_train, train_x_transformed)"
   ]
  },
  {
   "cell_type": "code",
   "execution_count": 33,
   "metadata": {},
   "outputs": [],
   "source": [
    "result_dict['log'] = (acc_list, f1_list)"
   ]
  },
  {
   "cell_type": "code",
   "execution_count": 34,
   "metadata": {},
   "outputs": [
    {
     "data": {
      "text/plain": [
       "(0.5595258049278498,\n",
       " 0.2741034767982326,\n",
       " 0.10956673826737764,\n",
       " 0.06139086310491573)"
      ]
     },
     "execution_count": 34,
     "metadata": {},
     "output_type": "execute_result"
    }
   ],
   "source": [
    "np.mean(acc_list), np.std(acc_list),np.mean(f1_list), np.std(f1_list)"
   ]
  },
  {
   "cell_type": "markdown",
   "metadata": {},
   "source": [
    "## Visualization"
   ]
  },
  {
   "cell_type": "code",
   "execution_count": 35,
   "metadata": {},
   "outputs": [
    {
     "data": {
      "image/png": "[encoded data removed]",
      "text/plain": [
       "<Figure size 720x432 with 1 Axes>"
      ]
     },
     "metadata": {
      "needs_background": "light"
     },
     "output_type": "display_data"
    }
   ],
   "source": [
    "labels = []\n",
    "acc_data = [x[0] for x in result_dict.values()]\n",
    "f1_data = [x[1] for x in result_dict.values()]\n",
    "mixed_data = []\n",
    "for i, label in enumerate(result_dict.keys()):\n",
    "    mixed_data.append(acc_data[i])\n",
    "    mixed_data.append(f1_data[i])\n",
    "    labels.append(label + \"_acc\")\n",
    "    labels.append(label + \"_f1\")\n",
    "\n",
    "plt.figure(figsize=(10, 6))\n",
    "palette = ['blue', 'orange'] * 4 \n",
    "sns.boxplot(data=mixed_data, palette=palette, showfliers=True)\n",
    "plt.xticks(np.arange(8), labels, rotation=45)\n",
    "plt.title(\"Comparison of Methods using Boxplots\")\n",
    "plt.tight_layout()\n",
    "plt.show()"
   ]
  }
 ],
 "metadata": {
  "kernelspec": {
   "display_name": "Python 3",
   "language": "python",
   "name": "python3"
  },
  "language_info": {
   "codemirror_mode": {
    "name": "ipython",
    "version": 3
   },
   "file_extension": ".py",
   "mimetype": "text/x-python",
   "name": "python",
   "nbconvert_exporter": "python",
   "pygments_lexer": "ipython3",
   "version": "3.7.6"
  }
 },
 "nbformat": 4,
 "nbformat_minor": 4
}
